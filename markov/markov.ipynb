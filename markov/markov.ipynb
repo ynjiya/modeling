{
 "cells": [
  {
   "cell_type": "code",
   "execution_count": 1,
   "metadata": {},
   "outputs": [],
   "source": [
    "import numpy as np\n",
    "import matplotlib.pyplot as plt\n",
    "import networkx as nx\n",
    "from random import randrange\n"
   ]
  },
  {
   "cell_type": "code",
   "execution_count": 2,
   "metadata": {},
   "outputs": [],
   "source": [
    "PRECISION = 1e-5\n",
    "TIME_DELTA = 1e-3\n",
    "GRAPH_OX = 1.5"
   ]
  },
  {
   "cell_type": "code",
   "execution_count": 10,
   "metadata": {},
   "outputs": [],
   "source": [
    "n = 3\n",
    "# tm = [[0.2, 0.6, 0.2], [0.3, 0, 0.7], [0.5, 0, 0.5]]\n",
    "tm = np.array([[0.4, 0.6, 0], [0.5, 0, 0.5], [0.3, 0.1, 0.6]])"
   ]
  },
  {
   "cell_type": "code",
   "execution_count": 104,
   "metadata": {},
   "outputs": [],
   "source": [
    "# n = 4\n",
    "# tm = np.array([[0.2, 0.6, 0.2, 0], [0.1, 0.6, 0.3, 0], [0.2, 0.7,0, 0.1], [0.4, 0.3, 0.2, 0.1]])"
   ]
  },
  {
   "cell_type": "code",
   "execution_count": null,
   "metadata": {},
   "outputs": [],
   "source": [
    "tm = [randrange(100) for i in randrange(n)]\n",
    "s = sum(tm)"
   ]
  },
  {
   "cell_type": "code",
   "execution_count": 9,
   "metadata": {},
   "outputs": [
    {
     "name": "stdout",
     "output_type": "stream",
     "text": [
      "[[0.2, 0.6, 0.2], [0.3, 0, 0.7], [0.5, 0, 0.5]]\n",
      "{(0, 0): 0.2, (0, 1): 0.6, (0, 2): 0.2, (1, 0): 0.3, (1, 1): 0, (1, 2): 0.7, (2, 0): 0.5, (2, 1): 0, (2, 2): 0.5}\n"
     ]
    },
    {
     "data": {
      "image/png": "[encoded data removed]",
      "text/plain": [
       "<Figure size 432x288 with 1 Axes>"
      ]
     },
     "metadata": {},
     "output_type": "display_data"
    }
   ],
   "source": [
    "def matrix_to_nx(matrix):\n",
    "    result = []\n",
    "    for i in range(len(matrix)):\n",
    "        for j in range(len(matrix[i])):\n",
    "            result.append((i, j, matrix[i][j]))\n",
    "    return result\n",
    "\n",
    "\n",
    "def nudge(pos, x_shift, y_shift):\n",
    "    return {n:(x + x_shift, y + y_shift) for n,(x,y) in pos.items()}\n",
    "\n",
    "def graph(matrix):\n",
    "    # DG = nx.from_numpy_matrix(matrix, create_using=nx.DiGraph)\n",
    "    print(tm)\n",
    "    # DG = nx.DiGraph(tm, format='weighted_adjacency_matrix')  # graph from matrix\n",
    "    DG = nx.DiGraph()\n",
    "    DG.add_weighted_edges_from(matrix_to_nx(tm))\n",
    "    pos = nx.circular_layout(DG)\n",
    "    # pos = nx.spring_layout(DG)\n",
    "    pos_nodes = nudge(pos, 0, 0.23)     # shift the layout\n",
    "    DG.graph['edge'] = {'arrowsize': '0.6', 'splines': 'curved'}\n",
    "\n",
    "    nx.draw(DG, pos, with_labels=True, connectionstyle='arc3, rad=0.15', node_size=900, node_color='green', )\n",
    "    labels = nx.get_edge_attributes(DG, 'weight')\n",
    "    print(labels)\n",
    "    nx.draw_networkx_edge_labels(DG, pos_nodes, edge_labels=labels, label_pos=0.75, font_size=13, bbox=dict(alpha=0))\n",
    "    # nx.draw_networkx_edges(DG, pos_nodes, edgelist=ll, arrowstyle=\"<|-\", style=\"dashed\")\n",
    "\n",
    "    plt.show()\n",
    "\n",
    "\n",
    "\n",
    "graph(tm)"
   ]
  },
  {
   "cell_type": "markdown",
   "metadata": {},
   "source": [
    "## Monte Carlo\n"
   ]
  },
  {
   "cell_type": "code",
   "execution_count": null,
   "metadata": {},
   "outputs": [],
   "source": [
    "steps = 10**6\n",
    "start_state = 0\n",
    "pi = np.array([0 for i in range(n)])\n",
    "pi[start_state] = 1\n",
    "prev_state = start_state\n",
    "prev_pi = pi.copy()\n",
    "\n",
    "i = 0\n",
    "while i < steps:\n",
    "    cur_state = np.random.choice([i for i in range(n)], p=tm[prev_state])\n",
    "    pi[cur_state] += 1\n",
    "    prev_state = cur_state\n",
    "    i += 1\n",
    "\n",
    "    rtol = 0\n",
    "    atol = 1e-05\n",
    "\n",
    "    print(prev_pi/i, pi/i)\n",
    "    if np.allclose(prev_pi/i, pi/i, rtol, atol):\n",
    "        break\n",
    "    prev_pi = pi.copy()\n",
    "\n",
    "print(pi/steps)\n",
    "print(i)\n"
   ]
  },
  {
   "cell_type": "markdown",
   "metadata": {},
   "source": [
    "## Repeated matrix multiplication"
   ]
  },
  {
   "cell_type": "code",
   "execution_count": null,
   "metadata": {},
   "outputs": [],
   "source": [
    "a = [[1,0],[0,1]] \n",
    "b = [[4,1],[2,2]] \n",
    "print(np.matmul(a,b))\n",
    "a"
   ]
  },
  {
   "cell_type": "code",
   "execution_count": 12,
   "metadata": {},
   "outputs": [
    {
     "name": "stdout",
     "output_type": "stream",
     "text": [
      "[[0.46 0.24 0.3 ]\n",
      " [0.35 0.35 0.3 ]\n",
      " [0.35 0.24 0.41]] \n",
      " [[0.4 0.6 0. ]\n",
      " [0.5 0.  0.5]\n",
      " [0.3 0.1 0.6]] \n",
      "\n",
      "[[0.394 0.306 0.3  ]\n",
      " [0.405 0.24  0.355]\n",
      " [0.383 0.251 0.366]] \n",
      " [[0.46 0.24 0.3 ]\n",
      " [0.35 0.35 0.3 ]\n",
      " [0.35 0.24 0.41]] \n",
      "\n",
      "[[0.4006 0.2664 0.333 ]\n",
      " [0.3885 0.2785 0.333 ]\n",
      " [0.3885 0.2664 0.3451]] \n",
      " [[0.394 0.306 0.3  ]\n",
      " [0.405 0.24  0.355]\n",
      " [0.383 0.251 0.366]] \n",
      "\n",
      "[[0.39334 0.27366 0.333  ]\n",
      " [0.39455 0.2664  0.33905]\n",
      " [0.39213 0.26761 0.34026]] \n",
      " [[0.4006 0.2664 0.333 ]\n",
      " [0.3885 0.2785 0.333 ]\n",
      " [0.3885 0.2664 0.3451]] \n",
      "\n",
      "[[0.394066 0.269304 0.33663 ]\n",
      " [0.392735 0.270635 0.33663 ]\n",
      " [0.392735 0.269304 0.337961]] \n",
      " [[0.39334 0.27366 0.333  ]\n",
      " [0.39455 0.2664  0.33905]\n",
      " [0.39213 0.26761 0.34026]] \n",
      "\n",
      "[[0.3932674 0.2701026 0.33663  ]\n",
      " [0.3934005 0.269304  0.3372955]\n",
      " [0.3931343 0.2694371 0.3374286]] \n",
      " [[0.394066 0.269304 0.33663 ]\n",
      " [0.392735 0.270635 0.33663 ]\n",
      " [0.392735 0.269304 0.337961]] \n",
      "\n",
      "[[0.39334726 0.26962344 0.3370293 ]\n",
      " [0.39320085 0.26976985 0.3370293 ]\n",
      " [0.39320085 0.26962344 0.33717571]] \n",
      " [[0.3932674 0.2701026 0.33663  ]\n",
      " [0.3934005 0.269304  0.3372955]\n",
      " [0.3931343 0.2694371 0.3374286]] \n",
      "\n",
      "[[0.39325941 0.26971129 0.3370293 ]\n",
      " [0.39327405 0.26962344 0.3371025 ]\n",
      " [0.39324477 0.26963808 0.33711715]] \n",
      " [[0.39334726 0.26962344 0.3370293 ]\n",
      " [0.39320085 0.26976985 0.3370293 ]\n",
      " [0.39320085 0.26962344 0.33717571]] \n",
      "\n",
      "[[0.3932682  0.26965858 0.33707322]\n",
      " [0.39325209 0.26967468 0.33707322]\n",
      " [0.39325209 0.26965858 0.33708933]] \n",
      " [[0.39325941 0.26971129 0.3370293 ]\n",
      " [0.39327405 0.26962344 0.3371025 ]\n",
      " [0.39324477 0.26963808 0.33711715]] \n",
      "\n",
      "[[0.39325854 0.26966824 0.33707322]\n",
      " [0.39326015 0.26965858 0.33708128]\n",
      " [0.39325693 0.26966019 0.33708289]] \n",
      " [[0.3932682  0.26965858 0.33707322]\n",
      " [0.39325209 0.26967468 0.33707322]\n",
      " [0.39325209 0.26965858 0.33708933]] \n",
      "\n",
      "[[0.3932595  0.26966244 0.33707805]\n",
      " [0.39325773 0.26966422 0.33707805]\n",
      " [0.39325773 0.26966244 0.33707983]] \n",
      " [[0.39325854 0.26966824 0.33707322]\n",
      " [0.39326015 0.26965858 0.33708128]\n",
      " [0.39325693 0.26966019 0.33708289]] \n",
      "\n",
      "[[0.39325844 0.26966351 0.33707805]\n",
      " [0.39325862 0.26966244 0.33707894]\n",
      " [0.39325826 0.26966262 0.33707912]] \n",
      " [[0.3932595  0.26966244 0.33707805]\n",
      " [0.39325773 0.26966422 0.33707805]\n",
      " [0.39325773 0.26966244 0.33707983]] \n",
      "\n",
      "[[0.39325855 0.26966287 0.33707859]\n",
      " [0.39325835 0.26966306 0.33707859]\n",
      " [0.39325835 0.26966287 0.33707878]] \n",
      " [[0.39325844 0.26966351 0.33707805]\n",
      " [0.39325862 0.26966244 0.33707894]\n",
      " [0.39325826 0.26966262 0.33707912]] \n",
      "\n",
      "[[0.39325855 0.26966287 0.33707859]\n",
      " [0.39325835 0.26966306 0.33707859]\n",
      " [0.39325835 0.26966287 0.33707878]]\n",
      "[0.39325855 0.26966287 0.33707859]\n",
      "13\n"
     ]
    },
    {
     "data": {
      "text/plain": [
       "[8, 9, 1]"
      ]
     },
     "execution_count": 12,
     "metadata": {},
     "output_type": "execute_result"
    }
   ],
   "source": [
    "steps = 10**3\n",
    "tm_n = tm\n",
    "stable_time = [0 for i in range(n)]\n",
    "probs = [[] for i in range(n)]\n",
    "max_stable_time = -1\n",
    "i = 0\n",
    "\n",
    "while i != int(max_stable_time*GRAPH_OX) or not all(s != 0 for s in stable_time):\n",
    "    # tm_n = np.matmul(tm_n, tm)\n",
    "    cur_tm = np.matmul(tm_n, tm)\n",
    "    # rtol = 0\n",
    "    # atol = 1e-08\n",
    "    # if np.allclose(cur_tm, tm_n, rtol, atol):\n",
    "    #     break\n",
    "\n",
    "    for state in range(n):\n",
    "        probs[state].append(tm_n[0][state])\n",
    "        if stable_time[state]==0 and abs(cur_tm[0][state] - tm_n[0][state]) < PRECISION:\n",
    "            stable_time[state] = i\n",
    "            if i > max_stable_time:\n",
    "                max_stable_time = i \n",
    "    # print(cur_tm, \"\\n\\n\")\n",
    "    print(cur_tm,\"\\n\", tm_n, \"\\n\")\n",
    "\n",
    "    tm_n = cur_tm\n",
    "    i += 1\n",
    "\n",
    "print(tm_n)\n",
    "\n",
    "print(tm_n[0])\n",
    "print(i)\n",
    "stable_time"
   ]
  },
  {
   "cell_type": "code",
   "execution_count": 13,
   "metadata": {},
   "outputs": [
    {
     "data": {
      "text/plain": [
       "[[0.4,\n",
       "  0.46,\n",
       "  0.394,\n",
       "  0.40060000000000007,\n",
       "  0.39334,\n",
       "  0.394066,\n",
       "  0.39326740000000004,\n",
       "  0.39334726,\n",
       "  0.39325941400000003,\n",
       "  0.3932681986,\n",
       "  0.39325853554,\n",
       "  0.393259501846,\n",
       "  0.3932584389094],\n",
       " [0.6,\n",
       "  0.24,\n",
       "  0.30600000000000005,\n",
       "  0.26639999999999997,\n",
       "  0.27366,\n",
       "  0.269304,\n",
       "  0.27010259999999997,\n",
       "  0.26962344000000005,\n",
       "  0.269711286,\n",
       "  0.2696585784,\n",
       "  0.26966824146,\n",
       "  0.269662443624,\n",
       "  0.2696635065606],\n",
       " [0.0,\n",
       "  0.3,\n",
       "  0.3,\n",
       "  0.333,\n",
       "  0.33299999999999996,\n",
       "  0.33663,\n",
       "  0.33663,\n",
       "  0.3370293,\n",
       "  0.3370293,\n",
       "  0.337073223,\n",
       "  0.337073223,\n",
       "  0.33707805452999995,\n",
       "  0.33707805452999995]]"
      ]
     },
     "execution_count": 13,
     "metadata": {},
     "output_type": "execute_result"
    }
   ],
   "source": [
    "probs"
   ]
  },
  {
   "cell_type": "code",
   "execution_count": 49,
   "metadata": {},
   "outputs": [
    {
     "data": {
      "image/png": "[encoded data removed]",
      "text/plain": [
       "<Figure size 432x288 with 1 Axes>"
      ]
     },
     "metadata": {
      "needs_background": "light"
     },
     "output_type": "display_data"
    }
   ],
   "source": [
    "# stable_time = [i/2 for i in stable_time]\n",
    "x = [i for i in range(int(max_stable_time*GRAPH_OX))]\n",
    "xlen = len(x)\n",
    "\n",
    "x = [i * 5 / xlen for i in x]\n",
    "fig, ax = plt.subplots()\n",
    "for i in range(n):\n",
    "    ax.plot(x, probs[i], label = 'S' + str(i))\n",
    "    ax.scatter(stable_time[i] * 5/xlen, tm_n[0][i], color='orange', s=40, marker='o')\n",
    "ax.legend()\n",
    "ax.set_xlabel('Time')\n",
    "ax.set_ylabel('Probabilities')\n",
    "plt.show()"
   ]
  },
  {
   "cell_type": "markdown",
   "metadata": {},
   "source": [
    "## Finding left Eigen vectors"
   ]
  },
  {
   "cell_type": "code",
   "execution_count": 27,
   "metadata": {},
   "outputs": [
    {
     "data": {
      "text/plain": [
       "False"
      ]
     },
     "execution_count": 27,
     "metadata": {},
     "output_type": "execute_result"
    }
   ],
   "source": [
    "ss = [1, 2, 3]\n",
    "not all(s != 0 for s in ss)"
   ]
  },
  {
   "cell_type": "code",
   "execution_count": 30,
   "metadata": {},
   "outputs": [
    {
     "name": "stdout",
     "output_type": "stream",
     "text": [
      "int(max_stable_time*GRAPH_OX) -1 -1\n",
      "int(max_stable_time*GRAPH_OX) -1 -1\n",
      "int(max_stable_time*GRAPH_OX) -1 -1\n",
      "int(max_stable_time*GRAPH_OX) -1 -1\n",
      "int(max_stable_time*GRAPH_OX) -1 -1\n",
      "int(max_stable_time*GRAPH_OX) -1 -1\n",
      "int(max_stable_time*GRAPH_OX) -1 -1\n",
      "int(max_stable_time*GRAPH_OX) -1 -1\n",
      "int(max_stable_time*GRAPH_OX) 10 7\n",
      "int(max_stable_time*GRAPH_OX) 12 8\n",
      "int(max_stable_time*GRAPH_OX) 12 8\n",
      "int(max_stable_time*GRAPH_OX) 12 8\n",
      "int(max_stable_time*GRAPH_OX) 16 11\n",
      "int(max_stable_time*GRAPH_OX) 16 11\n",
      "int(max_stable_time*GRAPH_OX) 16 11\n",
      "int(max_stable_time*GRAPH_OX) 16 11\n",
      "[0.35211269 0.21126764 0.43661967]\n",
      "16\n"
     ]
    },
    {
     "data": {
      "text/plain": [
       "[7, 8, 11]"
      ]
     },
     "execution_count": 30,
     "metadata": {},
     "output_type": "execute_result"
    }
   ],
   "source": [
    "steps = 10**3\n",
    "start_state = 0\n",
    "pi = np.array([0 for i in range(n)])\n",
    "pi[start_state] = 1\n",
    "\n",
    "pi_n = pi\n",
    "\n",
    "stable_time = [0 for i in range(n)]\n",
    "max_stable_time = -1\n",
    "probs = [[] for i in range(n)]\n",
    "\n",
    "i = 0\n",
    "while not all(s != 0 for s in stable_time) or i != int(max_stable_time*GRAPH_OX):\n",
    "    print(\"int(max_stable_time*GRAPH_OX)\", int(max_stable_time*GRAPH_OX), max_stable_time)\n",
    "    cur_pi = np.matmul(pi_n, tm)\n",
    "    # if np.array_equal(cur_pi, pi_n):\n",
    "    #     break\n",
    "    for state in range(n):\n",
    "        probs[state].append(pi_n[state])\n",
    "        if stable_time[state] == 0 and abs(cur_pi[state] - pi_n[state]) < PRECISION:\n",
    "            # stable_time[state] = i * TIME_DELTA - TIME_DELTA * 10\n",
    "            stable_time[state] = i\n",
    "            if i > max_stable_time:\n",
    "                max_stable_time = i \n",
    "    i += 1\n",
    "    # for i in range(n):\n",
    "    #     probs[i].append(pi_n[i])\n",
    "    pi_n = cur_pi\n",
    "\n",
    "print(pi_n)\n",
    "print(i)\n",
    "stable_time\n"
   ]
  },
  {
   "cell_type": "code",
   "execution_count": null,
   "metadata": {},
   "outputs": [],
   "source": [
    "probs"
   ]
  },
  {
   "cell_type": "code",
   "execution_count": 32,
   "metadata": {},
   "outputs": [
    {
     "data": {
      "image/png": "[encoded data removed]",
      "text/plain": [
       "<Figure size 432x288 with 1 Axes>"
      ]
     },
     "metadata": {
      "needs_background": "light"
     },
     "output_type": "display_data"
    }
   ],
   "source": [
    "x = [i for i in range(int(max_stable_time*GRAPH_OX))]\n",
    "fig, ax = plt.subplots()\n",
    "for i in range(n):\n",
    "    ax.plot(x, probs[i], label = 'S' + str(i))\n",
    "    ax.scatter(stable_time[i], cur_pi[i], color='orange', s=40, marker='o')\n",
    "ax.legend()\n",
    "ax.set_xlabel('Time')\n",
    "ax.set_ylabel('Probabilities')\n",
    "plt.show()"
   ]
  },
  {
   "cell_type": "code",
   "execution_count": null,
   "metadata": {},
   "outputs": [],
   "source": [
    "# n = 3\n",
    "# TIME_DELTA = 1e-3\n",
    "\n",
    "# def dp(matrix, probabilities):\n",
    "#     res = []\n",
    "#     n = len(matrix)\n",
    "#     for i in range(n):\n",
    "#         summ = 0\n",
    "#         for j in range(n):\n",
    "#             if i == j:\n",
    "#                 sum_i = 0\n",
    "#                 for t in range(n):\n",
    "#                     sum_i += matrix[i][t]\n",
    "\n",
    "#                 summ += probabilities[j] * (-1 * sum_i + matrix[i][i])\n",
    "#             else:\n",
    "#                 summ += probabilities[j] * matrix[j][i]\n",
    "#         res.append(TIME_DELTA * summ)\n",
    "#     return res\n",
    "\n",
    "\n",
    "# matrix = [[0.2, 0.6, 0.2], [0.3, 0, 0.7], [0.5, 0, 0.5]]\n",
    "# start_probabilities = [0] * n\n",
    "# start_probabilities[0] = 1\n",
    "\n",
    "# dp(matrix, start_probabilities)\n"
   ]
  }
 ],
 "metadata": {
  "kernelspec": {
   "display_name": "Python 3.9.0 64-bit",
   "language": "python",
   "name": "python3"
  },
  "language_info": {
   "codemirror_mode": {
    "name": "ipython",
    "version": 3
   },
   "file_extension": ".py",
   "mimetype": "text/x-python",
   "name": "python",
   "nbconvert_exporter": "python",
   "pygments_lexer": "ipython3",
   "version": "3.9.0"
  },
  "orig_nbformat": 4,
  "vscode": {
   "interpreter": {
    "hash": "397704579725e15f5c7cb49fe5f0341eb7531c82d19f2c29d197e8b64ab5776b"
   }
  }
 },
 "nbformat": 4,
 "nbformat_minor": 2
}
